{
 "cells": [
  {
   "cell_type": "code",
   "execution_count": 1,
   "id": "e8ccc21c-5a35-4854-be52-501aae480c91",
   "metadata": {},
   "outputs": [
    {
     "name": "stdout",
     "output_type": "stream",
     "text": [
      "Requirement already satisfied: obs-websocket-py in /home/mike/Applications/miniconda3/envs/crewai/lib/python3.13/site-packages (1.0)\n",
      "Requirement already satisfied: websocket-client in /home/mike/Applications/miniconda3/envs/crewai/lib/python3.13/site-packages (from obs-websocket-py) (1.8.0)\n",
      "Requirement already satisfied: playwright in /home/mike/Applications/miniconda3/envs/crewai/lib/python3.13/site-packages (1.51.0)\n",
      "Requirement already satisfied: pyee<13,>=12 in /home/mike/Applications/miniconda3/envs/crewai/lib/python3.13/site-packages (from playwright) (12.1.1)\n",
      "Requirement already satisfied: greenlet<4.0.0,>=3.1.1 in /home/mike/Applications/miniconda3/envs/crewai/lib/python3.13/site-packages (from playwright) (3.1.1)\n",
      "Requirement already satisfied: typing-extensions in /home/mike/Applications/miniconda3/envs/crewai/lib/python3.13/site-packages (from pyee<13,>=12->playwright) (4.12.2)\n"
     ]
    }
   ],
   "source": [
    "!pip install obs-websocket-py\n",
    "!pip install playwright\n",
    "from playwright.async_api import async_playwright\n",
    "from obswebsocket import obsws, requests\n",
    "import time"
   ]
  },
  {
   "cell_type": "code",
   "execution_count": 2,
   "id": "28e8c917-9e2f-4321-a7dd-bf8fdb521dd4",
   "metadata": {},
   "outputs": [],
   "source": [
    "OBS_HOST = \"192.168.1.6\"\n",
    "OBS_PORT = 4444  # Thay đổi nếu bạn cấu hình cổng khác\n",
    "OBS_PASSWORD = \"Abc@1234\"  # Thay đổi bằng mật khẩu của bạn"
   ]
  },
  {
   "cell_type": "code",
   "execution_count": 10,
   "id": "4415537c-fb3e-43f8-ba15-ba264c5d7838",
   "metadata": {},
   "outputs": [],
   "source": [
    "ws = obsws(OBS_HOST, OBS_PORT, OBS_PASSWORD)\n",
    "ws.connect()"
   ]
  },
  {
   "cell_type": "code",
   "execution_count": 16,
   "id": "7291ab65-93ee-438c-9ffd-aed453b912f3",
   "metadata": {},
   "outputs": [],
   "source": [
    "ws.call(requests.StartRecording()) \n",
    "async with async_playwright() as p:\n",
    "    browser = await p.chromium.launch(headless=False, args=[\"--window-name=PlaywrightWindow\"])\n",
    "    page = await browser.new_page()\n",
    "    await page.goto(\"https://example.com\")  # Đi đến trang web cần kiểm thử\n",
    "    await  page.wait_for_timeout(25000)  # Đợi 5 giây để quan sát\n",
    "    #await browser.close()\n",
    "    ws.call(requests.StopRecording())  # Dừng ghi OBS\n"
   ]
  },
  {
   "cell_type": "code",
   "execution_count": 6,
   "id": "178a2192-98d5-4f49-a5dc-ee040b75607f",
   "metadata": {},
   "outputs": [],
   "source": [
    "ws.disconnect()  # Ngắt kết nối OBS WebSocket"
   ]
  },
  {
   "cell_type": "code",
   "execution_count": 22,
   "id": "302df9f8-6c95-4f28-a910-b685c5d80cfe",
   "metadata": {},
   "outputs": [
    {
     "name": "stdout",
     "output_type": "stream",
     "text": [
      "<GetSceneList request ({}) called: success ({'message-id': '3', 'status': 'ok', 'current-scene': 'Scene', 'scenes': [{'name': 'Scene', 'sources': []}, {'name': 'Vertical Scene', 'sources': []}]})>\n",
      "Bắt đầu ghi OBS...\n",
      "Kết thúc ghi OBS...\n"
     ]
    }
   ],
   "source": [
    "\n",
    "async def main():\n",
    "    # Kết nối đến OBS WebSocket\n",
    "    ws = obsws(OBS_HOST, OBS_PORT, OBS_PASSWORD)\n",
    "    ws.connect()\n",
    "\n",
    "    try:\n",
    "        # Khởi động Playwright và mở trình duyệt\n",
    "        async with async_playwright() as p:\n",
    "            browser = await p.chromium.launch(headless=False)\n",
    "            page = await browser.new_page()\n",
    "            await page.goto(\"https://example.com\")  # Đi đến trang web cần kiểm thử\n",
    "\n",
    "\n",
    "            # Lấy danh sách các cửa sổ hiện có trong OBS\n",
    "            scenes = ws.call(requests.GetSceneList())\n",
    "            print(scenes)\n",
    "            current_scene = scenes.getScenes()[0][\"name\"]  # Lấy tên scene hiện tại\n",
    "\n",
    "            # Xóa tất cả các nguồn cũ trong scene\n",
    "            sources = ws.call(requests.GetSceneItemList(sceneName=current_scene))\n",
    "            for source in sources.getSceneItems():\n",
    "                ws.call(requests.RemoveSceneItem(sceneName=current_scene, item=source[\"sourceName\"]))\n",
    "\n",
    "            # Thêm nguồn \"Window Capture\" mới\n",
    "            window_title = \"Chrominum\"  # Tiêu đề cửa sổ trình duyệt của Playwright\n",
    "            ws.call(requests.CreateSource(\n",
    "                sourceName=\"Playwright Window\",\n",
    "                sourceKind=\"Window Capture (PipeWire)\",\n",
    "                sceneName=current_scene,\n",
    "                sceneItemEnabled=True\n",
    "            ))\n",
    "            ws.call(requests.SetSceneItemProperties(\n",
    "                sceneName=current_scene,\n",
    "                item=\"Playwright Window\",\n",
    "                visible=True\n",
    "            ))\n",
    "            ws.call(requests.SetSourceSettings(\n",
    "                sourceName=\"Playwright Window\",\n",
    "                sourceSettings={\"window\": window_title}\n",
    "            ))\n",
    "\n",
    "            print(\"Bắt đầu ghi OBS...\")\n",
    "            ws.call(requests.StartRecording())  # Bắt đầu ghi OBS\n",
    "\n",
    "            # Thực hiện các hành động trên trang web\n",
    "            await page.wait_for_timeout(10000)  # Đợi 10 giây để quan sát\n",
    "\n",
    "            print(\"Kết thúc ghi OBS...\")\n",
    "            ws.call(requests.StopRecording())  # Dừng ghi OBS\n",
    "\n",
    "            # Đóng trình duyệt sau khi ghi xong\n",
    "            #await browser.close()\n",
    "\n",
    "    finally:\n",
    "        ws.disconnect()  # Ngắt kết nối OBS WebSocket\n",
    "\n",
    "# Chạy hàm chính\n",
    "await main()"
   ]
  },
  {
   "cell_type": "code",
   "execution_count": 53,
   "id": "655ba459-7a08-401b-ac54-370a55957c16",
   "metadata": {},
   "outputs": [
    {
     "name": "stdout",
     "output_type": "stream",
     "text": [
      "<GetSceneList request ({}) called: success ({'message-id': '3', 'status': 'ok', 'current-scene': 'Scene', 'scenes': [{'name': 'Scene', 'sources': [{'name': 'Window Capture (PipeWire)', 'id': 14, 'type': 'pipewire-window-capture-source', 'volume': 1.0, 'x': 0.0, 'y': 0.0, 'source_cx': 0, 'source_cy': 0, 'muted': False, 'alignment': 5, 'cx': 0.0, 'cy': 0.0, 'render': True, 'locked': False}]}, {'name': 'Vertical Scene', 'sources': []}]})>\n",
      "Bắt đầu ghi OBS...\n",
      "Kết thúc ghi OBS...\n"
     ]
    }
   ],
   "source": [
    "async def main():\n",
    "    # Kết nối đến OBS WebSocket \n",
    "    # <<< LỖI: Cần client = obsws(...) và await client.connect() >>>\n",
    "    ws = obsws(OBS_HOST, OBS_PORT, OBS_PASSWORD) \n",
    "    ws.connect() \n",
    "\n",
    "    try:\n",
    "        # Khởi động Playwright và mở trình duyệt\n",
    "        async with async_playwright() as p:\n",
    "            browser = await p.chromium.launch(headless=False)\n",
    "            page = await browser.new_page()\n",
    "            await page.goto(\"https://example.com\")  \n",
    "            page_title = await page.title() # Lấy title thực tế\n",
    "\n",
    "            # <<< LỖI: Tất cả ws.call(...) bên dưới đều thiếu await >>>\n",
    "\n",
    "            # Lấy danh sách scenes \n",
    "            scenes = ws.call(requests.GetSceneList()) \n",
    "            print(scenes) \n",
    "            # Giả sử lấy scene đầu tiên\n",
    "            current_scene = scenes.getScenes()[0][\"name\"] # <<< Sửa key thành sceneName nếu cần\n",
    "\n",
    "            # Xóa nguồn cũ (Đã cảnh báo là nguy hiểm và sai tham số)\n",
    "            # sources = ws.call(requests.GetSceneItemList(sceneName=current_scene))\n",
    "            # for source in sources.getSceneItems():\n",
    "            #     ws.call(requests.RemoveSceneItem(sceneName=current_scene, item=source[\"sourceName\"])) # <<< LỖI: Tham số item sai\n",
    "\n",
    "            # --- Tập trung vào các tham số theo yêu cầu ---\n",
    "\n",
    "            # 1. Tham số cho CreateSource\n",
    "            #    =========================\n",
    "            #    <<< LƯU Ý QUAN TRỌNG về sourceKind >>>\n",
    "            #    Giá trị \"Window Capture (PipeWire)\" có thể không chính xác.\n",
    "            #    Bạn cần kiểm tra trong OBS xem tên Kind thực tế là gì khi thêm thủ công.\n",
    "            #    Thử các giá trị như: \"window_capture\", \"pipewire-window-capture\", \"browser_source\", v.v.\n",
    "            VERIFIED_SOURCE_KIND = \"window_capture\" # <<< THAY THẾ BẰNG KIND ĐÚNG TỪ OBS\n",
    "            \n",
    "            ws.call(requests.CreateSource(\n",
    "                sourceName=\"Playwright Window\",      # Tên bạn muốn đặt cho source\n",
    "                sourceKind=VERIFIED_SOURCE_KIND,     # <<< Dùng Kind đã xác minh ở trên\n",
    "                sceneName=current_scene,             # Scene đích\n",
    "                # sceneItemEnabled=True              # <<< Tham số này có thể không cần, nên dùng SetSceneItemEnabled sau\n",
    "                setVisible=True                      # <<< Hoặc thử setVisible=True ở đây\n",
    "            ))\n",
    "\n",
    "            # 2. Tham số cho SetSceneItemProperties (hoặc SetSceneItemEnabled)\n",
    "            #    =============================================================\n",
    "            #    Dùng để đảm bảo source hiển thị sau khi tạo/cập nhật\n",
    "            ws.call(requests.SetSceneItemProperties(\n",
    "                sceneName=current_scene,\n",
    "                item=\"Playwright Window\",  # <<< Dùng tên sourceName đã tạo. OBS sẽ tìm theo tên.\n",
    "                visible=True              # Tham số 'visible' là đúng\n",
    "            ))\n",
    "            # Hoặc dùng SetSceneItemEnabled nếu chỉ muốn bật/tắt:\n",
    "            # ws.call(requests.SetSceneItemEnabled(\n",
    "            #      sceneName=current_scene,\n",
    "            #      sceneItemId= ??? , # <<< Cần ID của item, lấy từ GetSceneItemList sau khi tạo\n",
    "            #      sceneItemEnabled=True\n",
    "            # ))\n",
    "\n",
    "\n",
    "            # 3. Tham số cho SetSourceSettings\n",
    "            #    =============================\n",
    "            #    <<< LƯU Ý QUAN TRỌNG về sourceSettings[\"window\"] >>>\n",
    "            #    - Key \"window\" có đúng cho VERIFIED_SOURCE_KIND bạn dùng không? Cần kiểm tra.\n",
    "            #    - Giá trị của nó KHÔNG PHẢI là \"Chrominum\" hay chỉ title trang web.\n",
    "            #    - Nó phải là chuỗi định danh cửa sổ CHÍNH XÁC mà OBS hiển thị.\n",
    "            WINDOW_IDENTIFIER_PLACEHOLDER = \"[chromium.chrome]: Example Domain - Chromium\" # <<< THAY THẾ BẰNG ĐỊNH DANH ĐÚNG TỪ OBS\n",
    "            \n",
    "            # Thêm delay nhỏ trước khi cài đặt settings (quan trọng)\n",
    "            await asyncio.sleep(3) # <<< Cần asyncio và await ở đây!\n",
    "\n",
    "            ws.call(requests.SetSourceSettings(\n",
    "                sourceName=\"Playwright Window\",      # Tên source đã tạo\n",
    "                sourceSettings={\n",
    "                    \"window\": WINDOW_IDENTIFIER_PLACEHOLDER # <<< Dùng định danh đúng đã tìm thấy\n",
    "                    # Có thể có các settings khác tùy thuộc vào sourceKind\n",
    "                 } \n",
    "            ))\n",
    "\n",
    "            # --- Kết thúc phần tập trung vào tham số ---\n",
    "\n",
    "            print(\"Bắt đầu ghi OBS...\")\n",
    "            ws.call(requests.StartRecording()) # <<< LỖI: Thiếu await\n",
    "\n",
    "            await page.wait_for_timeout(10000) \n",
    "\n",
    "            print(\"Kết thúc ghi OBS...\")\n",
    "            ws.call(requests.StopRecording()) # <<< LỖI: Thiếu await\n",
    "\n",
    "            # Đóng trình duyệt\n",
    "            # await browser.close()\n",
    "\n",
    "    finally:\n",
    "        # <<< LỖI: Thiếu await >>>\n",
    "        ws.disconnect() \n",
    "\n",
    "# Chạy hàm chính\n",
    "# <<< Cần try/except và import asyncio nếu dùng await main() >>>\n",
    "await main()"
   ]
  },
  {
   "cell_type": "code",
   "execution_count": 34,
   "id": "d1d08cdf-8eba-434b-b906-57be3f29ce3a",
   "metadata": {},
   "outputs": [],
   "source": [
    "ws.disconnect()"
   ]
  },
  {
   "cell_type": "code",
   "execution_count": 54,
   "id": "166b5fa7-b4f5-4b0b-bfcf-eae7c663f7dd",
   "metadata": {},
   "outputs": [
    {
     "ename": "ModuleNotFoundError",
     "evalue": "No module named 'obspython'",
     "output_type": "error",
     "traceback": [
      "\u001b[31m---------------------------------------------------------------------------\u001b[39m",
      "\u001b[31mModuleNotFoundError\u001b[39m                       Traceback (most recent call last)",
      "\u001b[36mCell\u001b[39m\u001b[36m \u001b[39m\u001b[32mIn[54]\u001b[39m\u001b[32m, line 1\u001b[39m\n\u001b[32m----> \u001b[39m\u001b[32m1\u001b[39m \u001b[38;5;28;01mimport\u001b[39;00m\u001b[38;5;250m \u001b[39m\u001b[34;01mobspython\u001b[39;00m\n",
      "\u001b[31mModuleNotFoundError\u001b[39m: No module named 'obspython'"
     ]
    },
    {
     "name": "stderr",
     "output_type": "stream",
     "text": [
      "Connection lost!\n",
      "Connection lost!\n",
      "Connection lost!\n",
      "Connection lost!\n",
      "Connection lost!\n"
     ]
    }
   ],
   "source": [
    "import obspython"
   ]
  },
  {
   "cell_type": "code",
   "execution_count": null,
   "id": "a8773326-4d65-4a70-8a11-90ace58bbb49",
   "metadata": {},
   "outputs": [],
   "source": []
  }
 ],
 "metadata": {
  "kernelspec": {
   "display_name": "crewai",
   "language": "python",
   "name": "python3"
  },
  "language_info": {
   "codemirror_mode": {
    "name": "ipython",
    "version": 3
   },
   "file_extension": ".py",
   "mimetype": "text/x-python",
   "name": "python",
   "nbconvert_exporter": "python",
   "pygments_lexer": "ipython3",
   "version": "3.13.2"
  }
 },
 "nbformat": 4,
 "nbformat_minor": 5
}
